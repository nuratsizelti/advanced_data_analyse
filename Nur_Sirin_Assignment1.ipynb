{
 "cells": [
  {
   "cell_type": "markdown",
   "id": "9f9b0017-d4c8-407b-b811-246b6f298488",
   "metadata": {},
   "source": [
    "1.Problem"
   ]
  },
  {
   "cell_type": "code",
   "execution_count": 1,
   "id": "ba27b9cf-7840-4ea1-8e0c-72f3f7b72495",
   "metadata": {},
   "outputs": [
    {
     "name": "stdin",
     "output_type": "stream",
     "text": [
      "Guess a number between 1 and 20:  6\n"
     ]
    },
    {
     "name": "stdout",
     "output_type": "stream",
     "text": [
      "Too low!\n"
     ]
    },
    {
     "name": "stderr",
     "output_type": "stream",
     "text": [
      "\n",
      "KeyboardInterrupt\n",
      "\n"
     ]
    }
   ],
   "source": [
    "\n",
    "import random\n",
    "\n",
    "def game():\n",
    "    # I generated a random number between 1 and 20\n",
    "    correct_number = random.randint(1, 20)\n",
    "    \n",
    "    while True:\n",
    "        # I asked the user to guess a number\n",
    "        guess = int(input(\"Guess a number between 1 and 20: \"))\n",
    "        \n",
    "        # I compared the guess with the correct number\n",
    "        if guess > correct_number:\n",
    "            print(\"Too high!\")\n",
    "        elif guess < correct_number:\n",
    "            print(\"Too low!\")\n",
    "        else:\n",
    "            print(\"Correct! You guessed the number!\")\n",
    "            break  # I ended the loop when the correct number is guessed\n",
    "\n",
    "# Start the game\n",
    "game()\n",
    "\n"
   ]
  },
  {
   "cell_type": "markdown",
   "id": "1479a584-fd3f-405b-a2ae-623f22716cb0",
   "metadata": {},
   "source": [
    "2.Problem"
   ]
  },
  {
   "cell_type": "code",
   "execution_count": 130,
   "id": "2d6a4d0a-34a5-47c4-a34c-b2970f1abc4f",
   "metadata": {},
   "outputs": [],
   "source": [
    "def find_index(array_name, target_value):\n",
    "    #I created a assumed list named array_name,and a function will search the target_value in the list repeatedly\n",
    "    for i in range(len(array_name)):\n",
    "        if array_name[i] == target_value:\n",
    "            return i  # I returned the index where target is found\n",
    "        elif array_name[i] > target_value:\n",
    "            return i  # I returned the index where target should be inserted\n",
    "    \n",
    "    # If the target is larger than all elements, return the length (insert at the end)\n",
    "    return len(array_name)"
   ]
  },
  {
   "cell_type": "code",
   "execution_count": 132,
   "id": "a8d14e5a-529c-49c6-b376-8720330153a3",
   "metadata": {},
   "outputs": [
    {
     "data": {
      "text/plain": [
       "2"
      ]
     },
     "execution_count": 132,
     "metadata": {},
     "output_type": "execute_result"
    }
   ],
   "source": [
    "array1 = [2,3,5,7,9]\n",
    "find_index(array1,4)"
   ]
  },
  {
   "cell_type": "markdown",
   "id": "91117fdd-a2ad-4d0e-9700-55fb013ca1fa",
   "metadata": {},
   "source": [
    "3.Problem"
   ]
  },
  {
   "cell_type": "code",
   "execution_count": 134,
   "id": "b9e06027-154b-4f48-badf-9e3d761d5808",
   "metadata": {},
   "outputs": [],
   "source": [
    "def add_binary(a: str, b: str) -> str:\n",
    "    # I converted binary strings to integers\n",
    "    int_a = int(str(a), 2)  # I ensured 'a' is treated as a string\n",
    "    int_b = int(str(b), 2)  # I ensured 'b' is treated as a string\n",
    "    \n",
    "    # I added the integers\n",
    "    total = int_a + int_b\n",
    "    \n",
    "    # I converted the sum back to a binary string, and remove the '0b' prefix\n",
    "    result = bin(total)[2:]\n",
    "    \n",
    "    return result"
   ]
  },
  {
   "cell_type": "code",
   "execution_count": 140,
   "id": "73e4e7c6-aa1c-4bfd-a01e-4c633d9ac6a1",
   "metadata": {},
   "outputs": [
    {
     "data": {
      "text/plain": [
       "'1010'"
      ]
     },
     "execution_count": 140,
     "metadata": {},
     "output_type": "execute_result"
    }
   ],
   "source": [
    "add_binary(\"111\",\"11\")"
   ]
  },
  {
   "cell_type": "markdown",
   "id": "232d45c5-5fab-4872-b2e4-98bc6b6003f3",
   "metadata": {},
   "source": [
    "4.Problem"
   ]
  },
  {
   "cell_type": "code",
   "execution_count": 3,
   "id": "6e21e3c9-0c45-47fa-80a4-176c3ecb8897",
   "metadata": {},
   "outputs": [],
   "source": [
    "def find_single_number(numbers):\n",
    "    # I created an empty dictionary to store the count of each number\n",
    "    count_dict = {}\n",
    "    \n",
    "    # I created a loop through the list and count occurrences\n",
    "    for num in numbers:\n",
    "        if num in count_dict:\n",
    "            count_dict[num] += 1  # If number is already in dictionary, increment its count\n",
    "        else:\n",
    "            count_dict[num] = 1  # If number is not in dictionary, add it with count 1\n",
    "    \n",
    "    # I created another loop through the dictionary to find the number that appears only once\n",
    "    for num in count_dict:\n",
    "        if count_dict[num] == 1:\n",
    "            return num  # I returned the number that appears only once\n",
    "\n"
   ]
  },
  {
   "cell_type": "code",
   "execution_count": 9,
   "id": "0c0bd0a2-3539-42c2-8dee-dca6947698ae",
   "metadata": {},
   "outputs": [
    {
     "name": "stdout",
     "output_type": "stream",
     "text": [
      "4\n"
     ]
    }
   ],
   "source": [
    "print(find_single_number([4, 1, 2, 1, 2]))"
   ]
  },
  {
   "cell_type": "markdown",
   "id": "0a75a59a-d860-46b9-9db5-ab03f98faee6",
   "metadata": {},
   "source": [
    "5.Problem"
   ]
  },
  {
   "cell_type": "code",
   "execution_count": 11,
   "id": "f53e7980-ea88-4632-b144-8257bd87d209",
   "metadata": {},
   "outputs": [],
   "source": [
    "def find_repeated_dna_sequences(s):\n",
    "    #I created a dictionary to count occurrences of each 10-letter sequence\n",
    "    sequence_count = {}\n",
    "    \n",
    "    # I created a loop through the string to get every 10-letter substring\n",
    "    for i in range(len(s) - 9):  # I used len(s) - 9 because I am extracting 10 letters\n",
    "        substring = s[i:i+10]  # I got a substring of 10 characters. s[i:i+10] extracts a substring of length 10 starting at position i.\n",
    "        if substring in sequence_count:\n",
    "            sequence_count[substring] += 1  #I incremented count if already exists\n",
    "        else:\n",
    "            sequence_count[substring] = 1  # I added to dictionary with count 1\n",
    "    \n",
    "    # I found the substrings that occur more than once\n",
    "    result = []\n",
    "    for seq in sequence_count:\n",
    "        if sequence_count[seq] > 1:  # If the count is greater than 1, it'll repeated\n",
    "            result.append(seq)\n",
    "    \n",
    "    return result"
   ]
  },
  {
   "cell_type": "code",
   "execution_count": 13,
   "id": "f4975b15-a8e9-4bf2-89b9-4486cc0c79f5",
   "metadata": {},
   "outputs": [
    {
     "name": "stdout",
     "output_type": "stream",
     "text": [
      "['AAAAACCCCC', 'CCCCCAAAAA']\n"
     ]
    }
   ],
   "source": [
    "s = \"AAAAACCCCCAAAAACCCCCCAAAAAGGGTTT\"\n",
    "print(find_repeated_dna_sequences(s))"
   ]
  },
  {
   "cell_type": "code",
   "execution_count": null,
   "id": "741e560b-b94b-4ff6-ab8d-9af300ed83db",
   "metadata": {},
   "outputs": [],
   "source": []
  }
 ],
 "metadata": {
  "kernelspec": {
   "display_name": "Python 3 (ipykernel)",
   "language": "python",
   "name": "python3"
  },
  "language_info": {
   "codemirror_mode": {
    "name": "ipython",
    "version": 3
   },
   "file_extension": ".py",
   "mimetype": "text/x-python",
   "name": "python",
   "nbconvert_exporter": "python",
   "pygments_lexer": "ipython3",
   "version": "3.12.4"
  }
 },
 "nbformat": 4,
 "nbformat_minor": 5
}
